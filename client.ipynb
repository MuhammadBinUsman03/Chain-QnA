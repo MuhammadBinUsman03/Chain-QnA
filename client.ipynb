{
 "cells": [
  {
   "cell_type": "code",
   "execution_count": 1,
   "metadata": {},
   "outputs": [],
   "source": [
    "from langserve import RemoteRunnable\n",
    "from langchain_core.messages import HumanMessage"
   ]
  },
  {
   "cell_type": "code",
   "execution_count": 6,
   "metadata": {},
   "outputs": [],
   "source": [
    "remote_chain = RemoteRunnable(\"http://localhost:8000/chain/\")\n",
    "config = {\"user_id\": \"user_id\", \"conversation_id\": \"conversation_id\"}"
   ]
  },
  {
   "cell_type": "code",
   "execution_count": 3,
   "metadata": {},
   "outputs": [
    {
     "data": {
      "text/plain": [
       "\"Apple is a multinational technology company that was founded in April 1976 by Steve Jobs, Steve Wozniak, and Ronald Wayne. The company's main products include the iPhone smartphone, the iPad tablet computer, the Mac personal computer, the iPod portable media player, the Apple Watch smartwatch, the Apple TV digital media player, the AirPods wireless earbuds, and the HomePod smart speaker. Apple's software includes iOS, iPadOS, macOS, watchOS, and tvOS operating systems, the iTunes media player, the Safari web browser, the Shazam music identifier, and the iLife and iWork creativity and productivity suites, as well as professional applications like Final Cut Pro, Logic Pro, and Xcode. Apple is known for its size and revenues. Its worldwide annual revenue totaled $274.5 billion for the 2020 fiscal year. Apple is the world's largest technology company by revenue and since January 2021, the world's\""
      ]
     },
     "execution_count": 3,
     "metadata": {},
     "output_type": "execute_result"
    }
   ],
   "source": [
    "remote_chain.invoke(\n",
    "        {\"language\": \"English\", \"question\": \"What is apple?\"},\n",
    "        config={\n",
    "            \"configurable\": config\n",
    "        },\n",
    ")"
   ]
  },
  {
   "cell_type": "code",
   "execution_count": 4,
   "metadata": {},
   "outputs": [
    {
     "data": {
      "text/plain": [
       "'A large language model is a type of artificial intelligence model that has been trained on a vast amount of text data. It is designed to generate human-like text based on the input it receives. These models can be used for a variety of natural language processing tasks, such as text generation, translation, summarization, and question answering.\\n\\nLarge language models typically use a technique called deep learning, which involves training the model on a large dataset using multiple layers of artificial neural networks. This allows the model to learn patterns and relationships in the data, which it can then use to generate coherent and contextually relevant text.\\n\\nOne of the key benefits of large language models is their ability to understand and generate text that is contextually relevant and coherent, even when dealing with complex or ambiguous inputs. However, they can also sometimes generate incorrect or nonsensical text, and they may also reflect and perpetuate biases present in the data on which they were trained.\\n\\nLarge language models are used in a variety of applications, such as virtual assistants, chatbots, and language translation tools. They are also used for research purposes, such as studying language patterns and developing new natural language processing techniques.'"
      ]
     },
     "execution_count": 4,
     "metadata": {},
     "output_type": "execute_result"
    }
   ],
   "source": [
    "remote_chain.invoke(\n",
    "        {\"language\": \"English\", \"question\": \"What is large language model?\"},\n",
    "        config={\n",
    "            \"configurable\": config\n",
    "        },\n",
    ")"
   ]
  },
  {
   "cell_type": "code",
   "execution_count": 5,
   "metadata": {},
   "outputs": [
    {
     "data": {
      "text/plain": [
       "'Here are all the questions you have asked me so far in this conversation:\\n\\n1. What is apple?\\n2. What is large language model?\\n3. Write all the questions i have asked you.\\n\\nI am happy to help answer any other questions you may have. Is there anything else you would like to know?'"
      ]
     },
     "execution_count": 5,
     "metadata": {},
     "output_type": "execute_result"
    }
   ],
   "source": [
    "remote_chain.invoke(\n",
    "        {\"language\": \"English\", \"question\": \"Write all the questions i have asked you.\"},\n",
    "        config={\n",
    "            \"configurable\": config\n",
    "        },\n",
    ")"
   ]
  },
  {
   "cell_type": "code",
   "execution_count": 9,
   "metadata": {},
   "outputs": [
    {
     "name": "stdout",
     "output_type": "stream",
     "text": [
      "Title: The Wonders of the Milky Way\n",
      "\n",
      "The Milky Way, our home galaxy, is a barred spiral galaxy that houses our solar system and is estimated to contain 100 to 400 billion stars. It is a fascinating and complex celestial structure that has been the subject of scientific study and wonder for centuries. This essay will delve into the various aspects of the Milky Way, including its structure, size, composition, and the role it plays in the larger universe.\n",
      "\n",
      "The Milky Way has a distinctive shape, characterized by a central bar-shaped structure composed of stars, gas, and dust. This bar is surrounded by a rotating disk of stars, gas, and dust, which is divided into spiral arms. Our solar system is located in one of the Milky Way's spiral arms, known as the Orion Arm. The Milky Way also has a prominent central bulge, which is a dense concentration of stars located at its center.\n",
      "\n",
      "The size of the Milky Way is truly awe-inspiring. It is estimated to be about 100,000 light-years in diameter, with a thickness of about 1,000 light-years in the vicinity of the sun. This means that it would take a beam of light, traveling at a speed of 186,282 miles per second, 100,000 years to traverse the Milky Way from one end to the other.\n",
      "\n",
      "The composition of the Milky Way is diverse and complex. It is composed of stars, gas, and dust, with the majority of its mass being in the form of hydrogen and helium. The Milky Way also contains a supermassive black hole at its center, which has a mass of approximately 4 million solar masses. This black hole, known as Sagittarius A*, is responsible for the high-energy activity observed in the center of the Milky Way.\n",
      "\n",
      "The Milky Way plays a significant role in the larger universe. It is a member of the Local Group, a collection of galaxies that includes the Andromeda Galaxy and the Triangulum Galaxy. The Milky Way and the Andromeda Galaxy are expected to collide in about 4 billion years, an event that will result in a merger of the two galaxies. This merger will likely lead to the formation of an elliptical galaxy, a type of galaxy that is common in the universe.\n",
      "\n",
      "The study of the Milky Way has led to numerous scientific discoveries and advances. For example, the study of the Milky Way's structure and composition has provided valuable insights into the formation and evolution of galaxies. The study of the Milky Way's supermassive black hole has shed light on the nature of black holes and their role in the universe.\n",
      "\n",
      "In conclusion, the Milky Way is a fascinating and complex celestial structure that is worthy of scientific study and wonder. Its distinctive shape, immense size, diverse composition, and significant role in the larger universe make it a subject of ongoing research and discovery. The Milky Way is not only our home galaxy, but it is also a testament to the beauty and complexity of the universe."
     ]
    }
   ],
   "source": [
    "# /stream - endpoint , remove parser from chain in server to start streaming output\n",
    "for r in remote_chain.stream(\n",
    "    {\"language\": \"English\", \"question\": \"Write a 500 word essay on milkyway.\"},\n",
    "    config={\n",
    "            \"configurable\": config\n",
    "    },\n",
    "):\n",
    "    print(r.content, end=\"\")"
   ]
  },
  {
   "cell_type": "code",
   "execution_count": null,
   "metadata": {},
   "outputs": [],
   "source": []
  }
 ],
 "metadata": {
  "kernelspec": {
   "display_name": ".venv",
   "language": "python",
   "name": "python3"
  },
  "language_info": {
   "codemirror_mode": {
    "name": "ipython",
    "version": 3
   },
   "file_extension": ".py",
   "mimetype": "text/x-python",
   "name": "python",
   "nbconvert_exporter": "python",
   "pygments_lexer": "ipython3",
   "version": "3.11.2"
  }
 },
 "nbformat": 4,
 "nbformat_minor": 2
}
